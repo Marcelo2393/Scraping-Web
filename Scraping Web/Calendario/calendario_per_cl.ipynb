{
 "cells": [
  {
   "cell_type": "markdown",
   "metadata": {},
   "source": [
    "# Librerías"
   ]
  },
  {
   "cell_type": "code",
   "execution_count": 6,
   "metadata": {},
   "outputs": [],
   "source": [
    "import requests\n",
    "from bs4 import BeautifulSoup\n",
    "from lxml import html\n",
    "import csv"
   ]
  },
  {
   "cell_type": "markdown",
   "metadata": {},
   "source": [
    "# Calendario Chile"
   ]
  },
  {
   "cell_type": "code",
   "execution_count": 2,
   "metadata": {},
   "outputs": [],
   "source": [
    "def scrape_feriados_chile(url):\n",
    "    response = requests.get(url)\n",
    "    if response.status_code == 200:\n",
    "        feriados = []\n",
    "        tree = html.fromstring(response.content)\n",
    "        tables = tree.xpath(\"/html/body/div[1]/div[5]/div[1]/div/div[1]/div/div[13]/div[1]/table\")\n",
    "        for table in tables:\n",
    "            rows = table.xpath(\".//tr\")\n",
    "            for row in rows:\n",
    "                cols = row.xpath(\".//td\")\n",
    "                if len(cols) == 3:\n",
    "                    fecha = cols[0].text.strip()\n",
    "                    mes = cols[1].text.strip()\n",
    "                    nombre = cols[2].text.strip()\n",
    "                    feriado = {\n",
    "                        \"fecha\": fecha + \" \" + mes,\n",
    "                        \"nombre\": nombre\n",
    "                    }\n",
    "                    feriados.append(feriado)\n",
    "        return feriados\n",
    "    else:\n",
    "        print(\"Error al obtener la página:\", response.status_code)\n",
    "        return []"
   ]
  },
  {
   "cell_type": "code",
   "execution_count": 4,
   "metadata": {},
   "outputs": [],
   "source": [
    "# Obtener feriados para cada año\n",
    "feriados_chile = []\n",
    "\n",
    "# Definir los URLs de cada año\n",
    "urls = {\n",
    "    2018: \"https://www.cuandoenelmundo.com/calendario/chile/2018\",\n",
    "    2019: \"https://www.cuandoenelmundo.com/calendario/chile/2019\",\n",
    "    2020: \"https://www.cuandoenelmundo.com/calendario/chile/2020\",\n",
    "    2021: \"https://www.cuandoenelmundo.com/calendario/chile/2021\",\n",
    "    2022: \"https://www.cuandoenelmundo.com/calendario/chile/2022\",\n",
    "    2023: \"https://www.cuandoenelmundo.com/calendario/chile/2023\",\n",
    "    2024: \"https://www.cuandoenelmundo.com/calendario/chile/2024\",\n",
    "    2025: \"https://www.cuandoenelmundo.com/calendario/chile/2025\",\n",
    "    2026: \"https://www.cuandoenelmundo.com/calendario/chile/2026\"\n",
    "}\n",
    "\n",
    "# Obtener feriados para cada año y agregarlos a la lista\n",
    "for year, url in urls.items():\n",
    "    feriados_chile.append({year: scrape_feriados_chile(url)})\n",
    "\n",
    "# Escribir los feriados en un archivo CSV\n",
    "with open(\"feriados_chile.csv\", \"w\", newline=\"\", encoding=\"utf-8\") as csvfile:\n",
    "    fieldnames = [\"Año\", \"Fecha\", \"Nombre\"]\n",
    "    writer = csv.DictWriter(csvfile, fieldnames=fieldnames)\n",
    "    writer.writeheader()\n",
    "    for feriados_year in feriados_chile:\n",
    "        year, feriados = feriados_year.popitem()\n",
    "        for feriado in feriados:\n",
    "            fecha, nombre = feriado[\"fecha\"], feriado[\"nombre\"]\n",
    "            writer.writerow({\"Año\": year, \"Fecha\": fecha, \"Nombre\": nombre})"
   ]
  },
  {
   "cell_type": "markdown",
   "metadata": {},
   "source": [
    "# Calendario Perú"
   ]
  },
  {
   "cell_type": "code",
   "execution_count": 5,
   "metadata": {},
   "outputs": [],
   "source": [
    "def scrape_feriados_peru(url):\n",
    "    response = requests.get(url)\n",
    "    if response.status_code == 200:\n",
    "        feriados = []\n",
    "        tree = html.fromstring(response.content)\n",
    "        tables = tree.xpath(\"/html/body/div[1]/div[5]/div[1]/div/div[1]/div/div[13]/div[1]/table\")\n",
    "        for table in tables:\n",
    "            rows = table.xpath(\".//tr\")\n",
    "            for row in rows:\n",
    "                cols = row.xpath(\".//td\")\n",
    "                if len(cols) == 3:\n",
    "                    fecha = cols[0].text.strip()\n",
    "                    mes = cols[1].text.strip()\n",
    "                    nombre = cols[2].text.strip()\n",
    "                    feriado = {\n",
    "                        \"fecha\": fecha + \" \" + mes,\n",
    "                        \"nombre\": nombre\n",
    "                    }\n",
    "                    feriados.append(feriado)\n",
    "        return feriados\n",
    "    else:\n",
    "        print(\"Error al obtener la página:\", response.status_code)\n",
    "        return []"
   ]
  },
  {
   "cell_type": "code",
   "execution_count": null,
   "metadata": {},
   "outputs": [],
   "source": [
    "# Obtener feriados para cada año\n",
    "feriados_peru = []\n",
    "\n",
    "# Definir los URLs de cada año\n",
    "urls = {\n",
    "    2018: \"https://www.cuandoenelmundo.com/calendario/peru/2018\",\n",
    "    2019: \"https://www.cuandoenelmundo.com/calendario/peru/2019\",\n",
    "    2020: \"https://www.cuandoenelmundo.com/calendario/peru/2020\",\n",
    "    2021: \"https://www.cuandoenelmundo.com/calendario/peru/2021\",\n",
    "    2022: \"https://www.cuandoenelmundo.com/calendario/peru/2022\",\n",
    "    2023: \"https://www.cuandoenelmundo.com/calendario/peru/2023\",\n",
    "    2024: \"https://www.cuandoenelmundo.com/calendario/peru/2024\",\n",
    "    2025: \"https://www.cuandoenelmundo.com/calendario/peru/2025\",\n",
    "    2026: \"https://www.cuandoenelmundo.com/calendario/peru/2026\"\n",
    "}\n",
    "\n",
    "# Obtener feriados para cada año y agregarlos a la lista\n",
    "for year, url in urls.items():\n",
    "    feriados_peru.append({year: scrape_feriados_peru(url)})\n",
    "\n",
    "# Escribir los feriados en un archivo CSV\n",
    "with open(\"feriados_peru.csv\", \"w\", newline=\"\", encoding=\"utf-8\") as csvfile:\n",
    "    fieldnames = [\"Año\", \"Fecha\", \"Nombre\"]\n",
    "    writer = csv.DictWriter(csvfile, fieldnames=fieldnames)\n",
    "    writer.writeheader()\n",
    "    for feriados_year in feriados_peru:\n",
    "        year, feriados = feriados_year.popitem()\n",
    "        for feriado in feriados:\n",
    "            fecha, nombre = feriado[\"fecha\"], feriado[\"nombre\"]\n",
    "            writer.writerow({\"Año\": year, \"Fecha\": fecha, \"Nombre\": nombre})"
   ]
  }
 ],
 "metadata": {
  "kernelspec": {
   "display_name": "Python 3",
   "language": "python",
   "name": "python3"
  },
  "language_info": {
   "codemirror_mode": {
    "name": "ipython",
    "version": 3
   },
   "file_extension": ".py",
   "mimetype": "text/x-python",
   "name": "python",
   "nbconvert_exporter": "python",
   "pygments_lexer": "ipython3",
   "version": "3.11.4"
  }
 },
 "nbformat": 4,
 "nbformat_minor": 2
}
